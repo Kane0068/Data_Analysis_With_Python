{
  "cells": [
    {
      "cell_type": "markdown",
      "metadata": {
        "id": "view-in-github",
        "colab_type": "text"
      },
      "source": [
        "<a href=\"https://colab.research.google.com/github/Kane0068/Data_Analysis_With_Python/blob/main/House_Sales_in_King_Count_USA.ipynb\" target=\"_parent\"><img src=\"https://colab.research.google.com/assets/colab-badge.svg\" alt=\"Open In Colab\"/></a>"
      ]
    },
    {
      "cell_type": "markdown",
      "metadata": {
        "id": "0eDP_nA-3BJ4"
      },
      "source": [
        "<p style=\"text-align:center\">\n",
        "    <a href=\"https://skills.network/?utm_medium=Exinfluencer&utm_source=Exinfluencer&utm_content=000026UJ&utm_term=10006555&utm_id=NA-SkillsNetwork-Channel-SkillsNetworkCoursesIBMDeveloperSkillsNetworkDA0101ENSkillsNetwork20235326-2022-01-01\" target=\"_blank\">\n",
        "    <img src=\"https://cf-courses-data.s3.us.cloud-object-storage.appdomain.cloud/assets/logos/SN_web_lightmode.png\" width=\"200\" alt=\"Skills Network Logo\"  />\n",
        "    </a>\n",
        "</p>\n",
        "\n",
        "<h1 align=center><font size = 5>Data Analysis with Python</font></h1>\n"
      ]
    },
    {
      "cell_type": "markdown",
      "metadata": {
        "id": "MVS6Dm593BJ8"
      },
      "source": [
        "# House Sales in King County, USA\n"
      ]
    },
    {
      "cell_type": "markdown",
      "metadata": {
        "id": "NeqHcgX13BJ9"
      },
      "source": [
        "This dataset contains house sale prices for King County, which includes Seattle. It includes homes sold between May 2014 and May 2015.\n"
      ]
    },
    {
      "cell_type": "markdown",
      "metadata": {
        "id": "Hd2AMyBj3BJ9"
      },
      "source": [
        "| Variable      | Description                                                                                                 |\n",
        "| ------------- | ----------------------------------------------------------------------------------------------------------- |\n",
        "| id            | A notation for a house                                                                                      |\n",
        "| date          | Date house was sold                                                                                         |\n",
        "| price         | Price is prediction target                                                                                  |\n",
        "| bedrooms      | Number of bedrooms                                                                                          |\n",
        "| bathrooms     | Number of bathrooms                                                                                         |\n",
        "| sqft_living   | Square footage of the home                                                                                  |\n",
        "| sqft_lot      | Square footage of the lot                                                                                   |\n",
        "| floors        | Total floors (levels) in house                                                                              |\n",
        "| waterfront    | House which has a view to a waterfront                                                                      |\n",
        "| view          | Has been viewed                                                                                             |\n",
        "| condition     | How good the condition is overall                                                                           |\n",
        "| grade         | overall grade given to the housing unit, based on King County grading system                                |\n",
        "| sqft_above    | Square footage of house apart from basement                                                                 |\n",
        "| sqft_basement | Square footage of the basement                                                                              |\n",
        "| yr_built      | Built Year                                                                                                  |\n",
        "| yr_renovated  | Year when house was renovated                                                                               |\n",
        "| zipcode       | Zip code                                                                                                    |\n",
        "| lat           | Latitude coordinate                                                                                         |\n",
        "| long          | Longitude coordinate                                                                                        |\n",
        "| sqft_living15 | Living room area in 2015(implies-- some renovations) This might or might not have affected the lotsize area |\n",
        "| sqft_lot15    | LotSize area in 2015(implies-- some renovations)                                                            |\n"
      ]
    },
    {
      "cell_type": "code",
      "execution_count": null,
      "metadata": {
        "colab": {
          "base_uri": "https://localhost:8080/"
        },
        "id": "fNpH1wpm3BJ-",
        "outputId": "89a581a6-c520-4dcb-a187-0b663513a458"
      },
      "outputs": [
        {
          "output_type": "stream",
          "name": "stdout",
          "text": [
            "Looking in indexes: https://pypi.org/simple, https://us-python.pkg.dev/colab-wheels/public/simple/\n",
            "Requirement already satisfied: scikit-learn in /usr/local/lib/python3.8/dist-packages (1.0.2)\n",
            "Collecting scikit-learn\n",
            "  Downloading scikit_learn-1.2.0-cp38-cp38-manylinux_2_17_x86_64.manylinux2014_x86_64.whl (9.7 MB)\n",
            "\u001b[2K     \u001b[90m━━━━━━━━━━━━━━━━━━━━━━━━━━━━━━━━━━━━━━━━\u001b[0m \u001b[32m9.7/9.7 MB\u001b[0m \u001b[31m29.1 MB/s\u001b[0m eta \u001b[36m0:00:00\u001b[0m\n",
            "\u001b[?25hRequirement already satisfied: threadpoolctl>=2.0.0 in /usr/local/lib/python3.8/dist-packages (from scikit-learn) (3.1.0)\n",
            "Requirement already satisfied: numpy>=1.17.3 in /usr/local/lib/python3.8/dist-packages (from scikit-learn) (1.21.6)\n",
            "Requirement already satisfied: scipy>=1.3.2 in /usr/local/lib/python3.8/dist-packages (from scikit-learn) (1.7.3)\n",
            "Requirement already satisfied: joblib>=1.1.1 in /usr/local/lib/python3.8/dist-packages (from scikit-learn) (1.2.0)\n",
            "Installing collected packages: scikit-learn\n",
            "Successfully installed scikit-learn-1.2.0\n"
          ]
        }
      ],
      "source": [
        "#After executing the below command restart the kernel and run all cells.\n",
        "!pip3 install scikit-learn --upgrade --user"
      ]
    },
    {
      "cell_type": "markdown",
      "metadata": {
        "id": "fG-1nyre3BJ_"
      },
      "source": [
        "You will require the following libraries:\n"
      ]
    },
    {
      "cell_type": "code",
      "execution_count": 1,
      "metadata": {
        "id": "8xMig9QX3BKA"
      },
      "outputs": [],
      "source": [
        "import pandas as pd\n",
        "import matplotlib.pyplot as plt\n",
        "import numpy as np\n",
        "import seaborn as sns\n",
        "from sklearn.pipeline import Pipeline\n",
        "from sklearn.preprocessing import StandardScaler,PolynomialFeatures\n",
        "from sklearn.linear_model import LinearRegression\n",
        "%matplotlib inline"
      ]
    },
    {
      "cell_type": "markdown",
      "metadata": {
        "id": "DoBuuDmY3BKA"
      },
      "source": [
        "# Module 1: Importing Data Sets\n"
      ]
    },
    {
      "cell_type": "markdown",
      "metadata": {
        "id": "q33FvgTB3BKB"
      },
      "source": [
        "Load the csv:\n"
      ]
    },
    {
      "cell_type": "code",
      "execution_count": 2,
      "metadata": {
        "jupyter": {
          "outputs_hidden": false
        },
        "id": "JRxHkemB3BKB"
      },
      "outputs": [],
      "source": [
        "file_name='https://cf-courses-data.s3.us.cloud-object-storage.appdomain.cloud/IBMDeveloperSkillsNetwork-DA0101EN-SkillsNetwork/labs/FinalModule_Coursera/data/kc_house_data_NaN.csv'\n",
        "df=pd.read_csv(file_name)"
      ]
    },
    {
      "cell_type": "markdown",
      "metadata": {
        "id": "9a8J3lkO3BKB"
      },
      "source": [
        "We use the method <code>head</code> to display the first 5 columns of the dataframe.\n"
      ]
    },
    {
      "cell_type": "code",
      "execution_count": 3,
      "metadata": {
        "colab": {
          "base_uri": "https://localhost:8080/",
          "height": 317
        },
        "id": "AvCgFotg3BKC",
        "outputId": "db2cc335-160a-4ce4-94d1-d33ad844ddab"
      },
      "outputs": [
        {
          "output_type": "execute_result",
          "data": {
            "text/plain": [
              "   Unnamed: 0          id             date     price  bedrooms  bathrooms  \\\n",
              "0           0  7129300520  20141013T000000  221900.0       3.0       1.00   \n",
              "1           1  6414100192  20141209T000000  538000.0       3.0       2.25   \n",
              "2           2  5631500400  20150225T000000  180000.0       2.0       1.00   \n",
              "3           3  2487200875  20141209T000000  604000.0       4.0       3.00   \n",
              "4           4  1954400510  20150218T000000  510000.0       3.0       2.00   \n",
              "\n",
              "   sqft_living  sqft_lot  floors  waterfront  ...  grade  sqft_above  \\\n",
              "0         1180      5650     1.0           0  ...      7        1180   \n",
              "1         2570      7242     2.0           0  ...      7        2170   \n",
              "2          770     10000     1.0           0  ...      6         770   \n",
              "3         1960      5000     1.0           0  ...      7        1050   \n",
              "4         1680      8080     1.0           0  ...      8        1680   \n",
              "\n",
              "   sqft_basement  yr_built  yr_renovated  zipcode      lat     long  \\\n",
              "0              0      1955             0    98178  47.5112 -122.257   \n",
              "1            400      1951          1991    98125  47.7210 -122.319   \n",
              "2              0      1933             0    98028  47.7379 -122.233   \n",
              "3            910      1965             0    98136  47.5208 -122.393   \n",
              "4              0      1987             0    98074  47.6168 -122.045   \n",
              "\n",
              "   sqft_living15  sqft_lot15  \n",
              "0           1340        5650  \n",
              "1           1690        7639  \n",
              "2           2720        8062  \n",
              "3           1360        5000  \n",
              "4           1800        7503  \n",
              "\n",
              "[5 rows x 22 columns]"
            ],
            "text/html": [
              "\n",
              "  <div id=\"df-16bd374b-9f38-4968-afb7-afb853fe0098\">\n",
              "    <div class=\"colab-df-container\">\n",
              "      <div>\n",
              "<style scoped>\n",
              "    .dataframe tbody tr th:only-of-type {\n",
              "        vertical-align: middle;\n",
              "    }\n",
              "\n",
              "    .dataframe tbody tr th {\n",
              "        vertical-align: top;\n",
              "    }\n",
              "\n",
              "    .dataframe thead th {\n",
              "        text-align: right;\n",
              "    }\n",
              "</style>\n",
              "<table border=\"1\" class=\"dataframe\">\n",
              "  <thead>\n",
              "    <tr style=\"text-align: right;\">\n",
              "      <th></th>\n",
              "      <th>Unnamed: 0</th>\n",
              "      <th>id</th>\n",
              "      <th>date</th>\n",
              "      <th>price</th>\n",
              "      <th>bedrooms</th>\n",
              "      <th>bathrooms</th>\n",
              "      <th>sqft_living</th>\n",
              "      <th>sqft_lot</th>\n",
              "      <th>floors</th>\n",
              "      <th>waterfront</th>\n",
              "      <th>...</th>\n",
              "      <th>grade</th>\n",
              "      <th>sqft_above</th>\n",
              "      <th>sqft_basement</th>\n",
              "      <th>yr_built</th>\n",
              "      <th>yr_renovated</th>\n",
              "      <th>zipcode</th>\n",
              "      <th>lat</th>\n",
              "      <th>long</th>\n",
              "      <th>sqft_living15</th>\n",
              "      <th>sqft_lot15</th>\n",
              "    </tr>\n",
              "  </thead>\n",
              "  <tbody>\n",
              "    <tr>\n",
              "      <th>0</th>\n",
              "      <td>0</td>\n",
              "      <td>7129300520</td>\n",
              "      <td>20141013T000000</td>\n",
              "      <td>221900.0</td>\n",
              "      <td>3.0</td>\n",
              "      <td>1.00</td>\n",
              "      <td>1180</td>\n",
              "      <td>5650</td>\n",
              "      <td>1.0</td>\n",
              "      <td>0</td>\n",
              "      <td>...</td>\n",
              "      <td>7</td>\n",
              "      <td>1180</td>\n",
              "      <td>0</td>\n",
              "      <td>1955</td>\n",
              "      <td>0</td>\n",
              "      <td>98178</td>\n",
              "      <td>47.5112</td>\n",
              "      <td>-122.257</td>\n",
              "      <td>1340</td>\n",
              "      <td>5650</td>\n",
              "    </tr>\n",
              "    <tr>\n",
              "      <th>1</th>\n",
              "      <td>1</td>\n",
              "      <td>6414100192</td>\n",
              "      <td>20141209T000000</td>\n",
              "      <td>538000.0</td>\n",
              "      <td>3.0</td>\n",
              "      <td>2.25</td>\n",
              "      <td>2570</td>\n",
              "      <td>7242</td>\n",
              "      <td>2.0</td>\n",
              "      <td>0</td>\n",
              "      <td>...</td>\n",
              "      <td>7</td>\n",
              "      <td>2170</td>\n",
              "      <td>400</td>\n",
              "      <td>1951</td>\n",
              "      <td>1991</td>\n",
              "      <td>98125</td>\n",
              "      <td>47.7210</td>\n",
              "      <td>-122.319</td>\n",
              "      <td>1690</td>\n",
              "      <td>7639</td>\n",
              "    </tr>\n",
              "    <tr>\n",
              "      <th>2</th>\n",
              "      <td>2</td>\n",
              "      <td>5631500400</td>\n",
              "      <td>20150225T000000</td>\n",
              "      <td>180000.0</td>\n",
              "      <td>2.0</td>\n",
              "      <td>1.00</td>\n",
              "      <td>770</td>\n",
              "      <td>10000</td>\n",
              "      <td>1.0</td>\n",
              "      <td>0</td>\n",
              "      <td>...</td>\n",
              "      <td>6</td>\n",
              "      <td>770</td>\n",
              "      <td>0</td>\n",
              "      <td>1933</td>\n",
              "      <td>0</td>\n",
              "      <td>98028</td>\n",
              "      <td>47.7379</td>\n",
              "      <td>-122.233</td>\n",
              "      <td>2720</td>\n",
              "      <td>8062</td>\n",
              "    </tr>\n",
              "    <tr>\n",
              "      <th>3</th>\n",
              "      <td>3</td>\n",
              "      <td>2487200875</td>\n",
              "      <td>20141209T000000</td>\n",
              "      <td>604000.0</td>\n",
              "      <td>4.0</td>\n",
              "      <td>3.00</td>\n",
              "      <td>1960</td>\n",
              "      <td>5000</td>\n",
              "      <td>1.0</td>\n",
              "      <td>0</td>\n",
              "      <td>...</td>\n",
              "      <td>7</td>\n",
              "      <td>1050</td>\n",
              "      <td>910</td>\n",
              "      <td>1965</td>\n",
              "      <td>0</td>\n",
              "      <td>98136</td>\n",
              "      <td>47.5208</td>\n",
              "      <td>-122.393</td>\n",
              "      <td>1360</td>\n",
              "      <td>5000</td>\n",
              "    </tr>\n",
              "    <tr>\n",
              "      <th>4</th>\n",
              "      <td>4</td>\n",
              "      <td>1954400510</td>\n",
              "      <td>20150218T000000</td>\n",
              "      <td>510000.0</td>\n",
              "      <td>3.0</td>\n",
              "      <td>2.00</td>\n",
              "      <td>1680</td>\n",
              "      <td>8080</td>\n",
              "      <td>1.0</td>\n",
              "      <td>0</td>\n",
              "      <td>...</td>\n",
              "      <td>8</td>\n",
              "      <td>1680</td>\n",
              "      <td>0</td>\n",
              "      <td>1987</td>\n",
              "      <td>0</td>\n",
              "      <td>98074</td>\n",
              "      <td>47.6168</td>\n",
              "      <td>-122.045</td>\n",
              "      <td>1800</td>\n",
              "      <td>7503</td>\n",
              "    </tr>\n",
              "  </tbody>\n",
              "</table>\n",
              "<p>5 rows × 22 columns</p>\n",
              "</div>\n",
              "      <button class=\"colab-df-convert\" onclick=\"convertToInteractive('df-16bd374b-9f38-4968-afb7-afb853fe0098')\"\n",
              "              title=\"Convert this dataframe to an interactive table.\"\n",
              "              style=\"display:none;\">\n",
              "        \n",
              "  <svg xmlns=\"http://www.w3.org/2000/svg\" height=\"24px\"viewBox=\"0 0 24 24\"\n",
              "       width=\"24px\">\n",
              "    <path d=\"M0 0h24v24H0V0z\" fill=\"none\"/>\n",
              "    <path d=\"M18.56 5.44l.94 2.06.94-2.06 2.06-.94-2.06-.94-.94-2.06-.94 2.06-2.06.94zm-11 1L8.5 8.5l.94-2.06 2.06-.94-2.06-.94L8.5 2.5l-.94 2.06-2.06.94zm10 10l.94 2.06.94-2.06 2.06-.94-2.06-.94-.94-2.06-.94 2.06-2.06.94z\"/><path d=\"M17.41 7.96l-1.37-1.37c-.4-.4-.92-.59-1.43-.59-.52 0-1.04.2-1.43.59L10.3 9.45l-7.72 7.72c-.78.78-.78 2.05 0 2.83L4 21.41c.39.39.9.59 1.41.59.51 0 1.02-.2 1.41-.59l7.78-7.78 2.81-2.81c.8-.78.8-2.07 0-2.86zM5.41 20L4 18.59l7.72-7.72 1.47 1.35L5.41 20z\"/>\n",
              "  </svg>\n",
              "      </button>\n",
              "      \n",
              "  <style>\n",
              "    .colab-df-container {\n",
              "      display:flex;\n",
              "      flex-wrap:wrap;\n",
              "      gap: 12px;\n",
              "    }\n",
              "\n",
              "    .colab-df-convert {\n",
              "      background-color: #E8F0FE;\n",
              "      border: none;\n",
              "      border-radius: 50%;\n",
              "      cursor: pointer;\n",
              "      display: none;\n",
              "      fill: #1967D2;\n",
              "      height: 32px;\n",
              "      padding: 0 0 0 0;\n",
              "      width: 32px;\n",
              "    }\n",
              "\n",
              "    .colab-df-convert:hover {\n",
              "      background-color: #E2EBFA;\n",
              "      box-shadow: 0px 1px 2px rgba(60, 64, 67, 0.3), 0px 1px 3px 1px rgba(60, 64, 67, 0.15);\n",
              "      fill: #174EA6;\n",
              "    }\n",
              "\n",
              "    [theme=dark] .colab-df-convert {\n",
              "      background-color: #3B4455;\n",
              "      fill: #D2E3FC;\n",
              "    }\n",
              "\n",
              "    [theme=dark] .colab-df-convert:hover {\n",
              "      background-color: #434B5C;\n",
              "      box-shadow: 0px 1px 3px 1px rgba(0, 0, 0, 0.15);\n",
              "      filter: drop-shadow(0px 1px 2px rgba(0, 0, 0, 0.3));\n",
              "      fill: #FFFFFF;\n",
              "    }\n",
              "  </style>\n",
              "\n",
              "      <script>\n",
              "        const buttonEl =\n",
              "          document.querySelector('#df-16bd374b-9f38-4968-afb7-afb853fe0098 button.colab-df-convert');\n",
              "        buttonEl.style.display =\n",
              "          google.colab.kernel.accessAllowed ? 'block' : 'none';\n",
              "\n",
              "        async function convertToInteractive(key) {\n",
              "          const element = document.querySelector('#df-16bd374b-9f38-4968-afb7-afb853fe0098');\n",
              "          const dataTable =\n",
              "            await google.colab.kernel.invokeFunction('convertToInteractive',\n",
              "                                                     [key], {});\n",
              "          if (!dataTable) return;\n",
              "\n",
              "          const docLinkHtml = 'Like what you see? Visit the ' +\n",
              "            '<a target=\"_blank\" href=https://colab.research.google.com/notebooks/data_table.ipynb>data table notebook</a>'\n",
              "            + ' to learn more about interactive tables.';\n",
              "          element.innerHTML = '';\n",
              "          dataTable['output_type'] = 'display_data';\n",
              "          await google.colab.output.renderOutput(dataTable, element);\n",
              "          const docLink = document.createElement('div');\n",
              "          docLink.innerHTML = docLinkHtml;\n",
              "          element.appendChild(docLink);\n",
              "        }\n",
              "      </script>\n",
              "    </div>\n",
              "  </div>\n",
              "  "
            ]
          },
          "metadata": {},
          "execution_count": 3
        }
      ],
      "source": [
        "df.head()"
      ]
    },
    {
      "cell_type": "markdown",
      "metadata": {
        "id": "SxJ6WC8g3BKC"
      },
      "source": [
        "### Question 1\n",
        "\n",
        "Display the data types of each column using the function dtypes, then take a screenshot and submit it, include your code in the image.\n"
      ]
    },
    {
      "cell_type": "code",
      "execution_count": 4,
      "metadata": {
        "jupyter": {
          "outputs_hidden": false
        },
        "colab": {
          "base_uri": "https://localhost:8080/"
        },
        "id": "pPyr_Jgv3BKC",
        "outputId": "37960bbf-b0c0-46b6-a488-2349b35f8a7f"
      },
      "outputs": [
        {
          "output_type": "execute_result",
          "data": {
            "text/plain": [
              "Unnamed: 0         int64\n",
              "id                 int64\n",
              "date              object\n",
              "price            float64\n",
              "bedrooms         float64\n",
              "bathrooms        float64\n",
              "sqft_living        int64\n",
              "sqft_lot           int64\n",
              "floors           float64\n",
              "waterfront         int64\n",
              "view               int64\n",
              "condition          int64\n",
              "grade              int64\n",
              "sqft_above         int64\n",
              "sqft_basement      int64\n",
              "yr_built           int64\n",
              "yr_renovated       int64\n",
              "zipcode            int64\n",
              "lat              float64\n",
              "long             float64\n",
              "sqft_living15      int64\n",
              "sqft_lot15         int64\n",
              "dtype: object"
            ]
          },
          "metadata": {},
          "execution_count": 4
        }
      ],
      "source": [
        "df.dtypes"
      ]
    },
    {
      "cell_type": "markdown",
      "metadata": {
        "id": "dLrlz6Cr3BKD"
      },
      "source": [
        "We use the method describe to obtain a statistical summary of the dataframe.\n"
      ]
    },
    {
      "cell_type": "code",
      "execution_count": 5,
      "metadata": {
        "jupyter": {
          "outputs_hidden": false
        },
        "colab": {
          "base_uri": "https://localhost:8080/",
          "height": 708
        },
        "id": "Zg3aedB63BKD",
        "outputId": "b8ef8c3c-bb78-4be1-8b77-a5bb2e875177"
      },
      "outputs": [
        {
          "output_type": "execute_result",
          "data": {
            "text/plain": [
              "                 count          mean           std           min  \\\n",
              "Unnamed: 0     21613.0  1.080600e+04  6.239280e+03  0.000000e+00   \n",
              "id             21613.0  4.580302e+09  2.876566e+09  1.000102e+06   \n",
              "price          21613.0  5.400881e+05  3.671272e+05  7.500000e+04   \n",
              "bedrooms       21600.0  3.372870e+00  9.266567e-01  1.000000e+00   \n",
              "bathrooms      21603.0  2.115736e+00  7.689959e-01  5.000000e-01   \n",
              "sqft_living    21613.0  2.079900e+03  9.184409e+02  2.900000e+02   \n",
              "sqft_lot       21613.0  1.510697e+04  4.142051e+04  5.200000e+02   \n",
              "floors         21613.0  1.494309e+00  5.399889e-01  1.000000e+00   \n",
              "waterfront     21613.0  7.541757e-03  8.651720e-02  0.000000e+00   \n",
              "view           21613.0  2.343034e-01  7.663176e-01  0.000000e+00   \n",
              "condition      21613.0  3.409430e+00  6.507430e-01  1.000000e+00   \n",
              "grade          21613.0  7.656873e+00  1.175459e+00  1.000000e+00   \n",
              "sqft_above     21613.0  1.788391e+03  8.280910e+02  2.900000e+02   \n",
              "sqft_basement  21613.0  2.915090e+02  4.425750e+02  0.000000e+00   \n",
              "yr_built       21613.0  1.971005e+03  2.937341e+01  1.900000e+03   \n",
              "yr_renovated   21613.0  8.440226e+01  4.016792e+02  0.000000e+00   \n",
              "zipcode        21613.0  9.807794e+04  5.350503e+01  9.800100e+04   \n",
              "lat            21613.0  4.756005e+01  1.385637e-01  4.715590e+01   \n",
              "long           21613.0 -1.222139e+02  1.408283e-01 -1.225190e+02   \n",
              "sqft_living15  21613.0  1.986552e+03  6.853913e+02  3.990000e+02   \n",
              "sqft_lot15     21613.0  1.276846e+04  2.730418e+04  6.510000e+02   \n",
              "\n",
              "                        25%           50%           75%           max  \n",
              "Unnamed: 0     5.403000e+03  1.080600e+04  1.620900e+04  2.161200e+04  \n",
              "id             2.123049e+09  3.904930e+09  7.308900e+09  9.900000e+09  \n",
              "price          3.219500e+05  4.500000e+05  6.450000e+05  7.700000e+06  \n",
              "bedrooms       3.000000e+00  3.000000e+00  4.000000e+00  3.300000e+01  \n",
              "bathrooms      1.750000e+00  2.250000e+00  2.500000e+00  8.000000e+00  \n",
              "sqft_living    1.427000e+03  1.910000e+03  2.550000e+03  1.354000e+04  \n",
              "sqft_lot       5.040000e+03  7.618000e+03  1.068800e+04  1.651359e+06  \n",
              "floors         1.000000e+00  1.500000e+00  2.000000e+00  3.500000e+00  \n",
              "waterfront     0.000000e+00  0.000000e+00  0.000000e+00  1.000000e+00  \n",
              "view           0.000000e+00  0.000000e+00  0.000000e+00  4.000000e+00  \n",
              "condition      3.000000e+00  3.000000e+00  4.000000e+00  5.000000e+00  \n",
              "grade          7.000000e+00  7.000000e+00  8.000000e+00  1.300000e+01  \n",
              "sqft_above     1.190000e+03  1.560000e+03  2.210000e+03  9.410000e+03  \n",
              "sqft_basement  0.000000e+00  0.000000e+00  5.600000e+02  4.820000e+03  \n",
              "yr_built       1.951000e+03  1.975000e+03  1.997000e+03  2.015000e+03  \n",
              "yr_renovated   0.000000e+00  0.000000e+00  0.000000e+00  2.015000e+03  \n",
              "zipcode        9.803300e+04  9.806500e+04  9.811800e+04  9.819900e+04  \n",
              "lat            4.747100e+01  4.757180e+01  4.767800e+01  4.777760e+01  \n",
              "long          -1.223280e+02 -1.222300e+02 -1.221250e+02 -1.213150e+02  \n",
              "sqft_living15  1.490000e+03  1.840000e+03  2.360000e+03  6.210000e+03  \n",
              "sqft_lot15     5.100000e+03  7.620000e+03  1.008300e+04  8.712000e+05  "
            ],
            "text/html": [
              "\n",
              "  <div id=\"df-60fa4faa-4bb0-40e0-89fd-ee9b51a12393\">\n",
              "    <div class=\"colab-df-container\">\n",
              "      <div>\n",
              "<style scoped>\n",
              "    .dataframe tbody tr th:only-of-type {\n",
              "        vertical-align: middle;\n",
              "    }\n",
              "\n",
              "    .dataframe tbody tr th {\n",
              "        vertical-align: top;\n",
              "    }\n",
              "\n",
              "    .dataframe thead th {\n",
              "        text-align: right;\n",
              "    }\n",
              "</style>\n",
              "<table border=\"1\" class=\"dataframe\">\n",
              "  <thead>\n",
              "    <tr style=\"text-align: right;\">\n",
              "      <th></th>\n",
              "      <th>count</th>\n",
              "      <th>mean</th>\n",
              "      <th>std</th>\n",
              "      <th>min</th>\n",
              "      <th>25%</th>\n",
              "      <th>50%</th>\n",
              "      <th>75%</th>\n",
              "      <th>max</th>\n",
              "    </tr>\n",
              "  </thead>\n",
              "  <tbody>\n",
              "    <tr>\n",
              "      <th>Unnamed: 0</th>\n",
              "      <td>21613.0</td>\n",
              "      <td>1.080600e+04</td>\n",
              "      <td>6.239280e+03</td>\n",
              "      <td>0.000000e+00</td>\n",
              "      <td>5.403000e+03</td>\n",
              "      <td>1.080600e+04</td>\n",
              "      <td>1.620900e+04</td>\n",
              "      <td>2.161200e+04</td>\n",
              "    </tr>\n",
              "    <tr>\n",
              "      <th>id</th>\n",
              "      <td>21613.0</td>\n",
              "      <td>4.580302e+09</td>\n",
              "      <td>2.876566e+09</td>\n",
              "      <td>1.000102e+06</td>\n",
              "      <td>2.123049e+09</td>\n",
              "      <td>3.904930e+09</td>\n",
              "      <td>7.308900e+09</td>\n",
              "      <td>9.900000e+09</td>\n",
              "    </tr>\n",
              "    <tr>\n",
              "      <th>price</th>\n",
              "      <td>21613.0</td>\n",
              "      <td>5.400881e+05</td>\n",
              "      <td>3.671272e+05</td>\n",
              "      <td>7.500000e+04</td>\n",
              "      <td>3.219500e+05</td>\n",
              "      <td>4.500000e+05</td>\n",
              "      <td>6.450000e+05</td>\n",
              "      <td>7.700000e+06</td>\n",
              "    </tr>\n",
              "    <tr>\n",
              "      <th>bedrooms</th>\n",
              "      <td>21600.0</td>\n",
              "      <td>3.372870e+00</td>\n",
              "      <td>9.266567e-01</td>\n",
              "      <td>1.000000e+00</td>\n",
              "      <td>3.000000e+00</td>\n",
              "      <td>3.000000e+00</td>\n",
              "      <td>4.000000e+00</td>\n",
              "      <td>3.300000e+01</td>\n",
              "    </tr>\n",
              "    <tr>\n",
              "      <th>bathrooms</th>\n",
              "      <td>21603.0</td>\n",
              "      <td>2.115736e+00</td>\n",
              "      <td>7.689959e-01</td>\n",
              "      <td>5.000000e-01</td>\n",
              "      <td>1.750000e+00</td>\n",
              "      <td>2.250000e+00</td>\n",
              "      <td>2.500000e+00</td>\n",
              "      <td>8.000000e+00</td>\n",
              "    </tr>\n",
              "    <tr>\n",
              "      <th>sqft_living</th>\n",
              "      <td>21613.0</td>\n",
              "      <td>2.079900e+03</td>\n",
              "      <td>9.184409e+02</td>\n",
              "      <td>2.900000e+02</td>\n",
              "      <td>1.427000e+03</td>\n",
              "      <td>1.910000e+03</td>\n",
              "      <td>2.550000e+03</td>\n",
              "      <td>1.354000e+04</td>\n",
              "    </tr>\n",
              "    <tr>\n",
              "      <th>sqft_lot</th>\n",
              "      <td>21613.0</td>\n",
              "      <td>1.510697e+04</td>\n",
              "      <td>4.142051e+04</td>\n",
              "      <td>5.200000e+02</td>\n",
              "      <td>5.040000e+03</td>\n",
              "      <td>7.618000e+03</td>\n",
              "      <td>1.068800e+04</td>\n",
              "      <td>1.651359e+06</td>\n",
              "    </tr>\n",
              "    <tr>\n",
              "      <th>floors</th>\n",
              "      <td>21613.0</td>\n",
              "      <td>1.494309e+00</td>\n",
              "      <td>5.399889e-01</td>\n",
              "      <td>1.000000e+00</td>\n",
              "      <td>1.000000e+00</td>\n",
              "      <td>1.500000e+00</td>\n",
              "      <td>2.000000e+00</td>\n",
              "      <td>3.500000e+00</td>\n",
              "    </tr>\n",
              "    <tr>\n",
              "      <th>waterfront</th>\n",
              "      <td>21613.0</td>\n",
              "      <td>7.541757e-03</td>\n",
              "      <td>8.651720e-02</td>\n",
              "      <td>0.000000e+00</td>\n",
              "      <td>0.000000e+00</td>\n",
              "      <td>0.000000e+00</td>\n",
              "      <td>0.000000e+00</td>\n",
              "      <td>1.000000e+00</td>\n",
              "    </tr>\n",
              "    <tr>\n",
              "      <th>view</th>\n",
              "      <td>21613.0</td>\n",
              "      <td>2.343034e-01</td>\n",
              "      <td>7.663176e-01</td>\n",
              "      <td>0.000000e+00</td>\n",
              "      <td>0.000000e+00</td>\n",
              "      <td>0.000000e+00</td>\n",
              "      <td>0.000000e+00</td>\n",
              "      <td>4.000000e+00</td>\n",
              "    </tr>\n",
              "    <tr>\n",
              "      <th>condition</th>\n",
              "      <td>21613.0</td>\n",
              "      <td>3.409430e+00</td>\n",
              "      <td>6.507430e-01</td>\n",
              "      <td>1.000000e+00</td>\n",
              "      <td>3.000000e+00</td>\n",
              "      <td>3.000000e+00</td>\n",
              "      <td>4.000000e+00</td>\n",
              "      <td>5.000000e+00</td>\n",
              "    </tr>\n",
              "    <tr>\n",
              "      <th>grade</th>\n",
              "      <td>21613.0</td>\n",
              "      <td>7.656873e+00</td>\n",
              "      <td>1.175459e+00</td>\n",
              "      <td>1.000000e+00</td>\n",
              "      <td>7.000000e+00</td>\n",
              "      <td>7.000000e+00</td>\n",
              "      <td>8.000000e+00</td>\n",
              "      <td>1.300000e+01</td>\n",
              "    </tr>\n",
              "    <tr>\n",
              "      <th>sqft_above</th>\n",
              "      <td>21613.0</td>\n",
              "      <td>1.788391e+03</td>\n",
              "      <td>8.280910e+02</td>\n",
              "      <td>2.900000e+02</td>\n",
              "      <td>1.190000e+03</td>\n",
              "      <td>1.560000e+03</td>\n",
              "      <td>2.210000e+03</td>\n",
              "      <td>9.410000e+03</td>\n",
              "    </tr>\n",
              "    <tr>\n",
              "      <th>sqft_basement</th>\n",
              "      <td>21613.0</td>\n",
              "      <td>2.915090e+02</td>\n",
              "      <td>4.425750e+02</td>\n",
              "      <td>0.000000e+00</td>\n",
              "      <td>0.000000e+00</td>\n",
              "      <td>0.000000e+00</td>\n",
              "      <td>5.600000e+02</td>\n",
              "      <td>4.820000e+03</td>\n",
              "    </tr>\n",
              "    <tr>\n",
              "      <th>yr_built</th>\n",
              "      <td>21613.0</td>\n",
              "      <td>1.971005e+03</td>\n",
              "      <td>2.937341e+01</td>\n",
              "      <td>1.900000e+03</td>\n",
              "      <td>1.951000e+03</td>\n",
              "      <td>1.975000e+03</td>\n",
              "      <td>1.997000e+03</td>\n",
              "      <td>2.015000e+03</td>\n",
              "    </tr>\n",
              "    <tr>\n",
              "      <th>yr_renovated</th>\n",
              "      <td>21613.0</td>\n",
              "      <td>8.440226e+01</td>\n",
              "      <td>4.016792e+02</td>\n",
              "      <td>0.000000e+00</td>\n",
              "      <td>0.000000e+00</td>\n",
              "      <td>0.000000e+00</td>\n",
              "      <td>0.000000e+00</td>\n",
              "      <td>2.015000e+03</td>\n",
              "    </tr>\n",
              "    <tr>\n",
              "      <th>zipcode</th>\n",
              "      <td>21613.0</td>\n",
              "      <td>9.807794e+04</td>\n",
              "      <td>5.350503e+01</td>\n",
              "      <td>9.800100e+04</td>\n",
              "      <td>9.803300e+04</td>\n",
              "      <td>9.806500e+04</td>\n",
              "      <td>9.811800e+04</td>\n",
              "      <td>9.819900e+04</td>\n",
              "    </tr>\n",
              "    <tr>\n",
              "      <th>lat</th>\n",
              "      <td>21613.0</td>\n",
              "      <td>4.756005e+01</td>\n",
              "      <td>1.385637e-01</td>\n",
              "      <td>4.715590e+01</td>\n",
              "      <td>4.747100e+01</td>\n",
              "      <td>4.757180e+01</td>\n",
              "      <td>4.767800e+01</td>\n",
              "      <td>4.777760e+01</td>\n",
              "    </tr>\n",
              "    <tr>\n",
              "      <th>long</th>\n",
              "      <td>21613.0</td>\n",
              "      <td>-1.222139e+02</td>\n",
              "      <td>1.408283e-01</td>\n",
              "      <td>-1.225190e+02</td>\n",
              "      <td>-1.223280e+02</td>\n",
              "      <td>-1.222300e+02</td>\n",
              "      <td>-1.221250e+02</td>\n",
              "      <td>-1.213150e+02</td>\n",
              "    </tr>\n",
              "    <tr>\n",
              "      <th>sqft_living15</th>\n",
              "      <td>21613.0</td>\n",
              "      <td>1.986552e+03</td>\n",
              "      <td>6.853913e+02</td>\n",
              "      <td>3.990000e+02</td>\n",
              "      <td>1.490000e+03</td>\n",
              "      <td>1.840000e+03</td>\n",
              "      <td>2.360000e+03</td>\n",
              "      <td>6.210000e+03</td>\n",
              "    </tr>\n",
              "    <tr>\n",
              "      <th>sqft_lot15</th>\n",
              "      <td>21613.0</td>\n",
              "      <td>1.276846e+04</td>\n",
              "      <td>2.730418e+04</td>\n",
              "      <td>6.510000e+02</td>\n",
              "      <td>5.100000e+03</td>\n",
              "      <td>7.620000e+03</td>\n",
              "      <td>1.008300e+04</td>\n",
              "      <td>8.712000e+05</td>\n",
              "    </tr>\n",
              "  </tbody>\n",
              "</table>\n",
              "</div>\n",
              "      <button class=\"colab-df-convert\" onclick=\"convertToInteractive('df-60fa4faa-4bb0-40e0-89fd-ee9b51a12393')\"\n",
              "              title=\"Convert this dataframe to an interactive table.\"\n",
              "              style=\"display:none;\">\n",
              "        \n",
              "  <svg xmlns=\"http://www.w3.org/2000/svg\" height=\"24px\"viewBox=\"0 0 24 24\"\n",
              "       width=\"24px\">\n",
              "    <path d=\"M0 0h24v24H0V0z\" fill=\"none\"/>\n",
              "    <path d=\"M18.56 5.44l.94 2.06.94-2.06 2.06-.94-2.06-.94-.94-2.06-.94 2.06-2.06.94zm-11 1L8.5 8.5l.94-2.06 2.06-.94-2.06-.94L8.5 2.5l-.94 2.06-2.06.94zm10 10l.94 2.06.94-2.06 2.06-.94-2.06-.94-.94-2.06-.94 2.06-2.06.94z\"/><path d=\"M17.41 7.96l-1.37-1.37c-.4-.4-.92-.59-1.43-.59-.52 0-1.04.2-1.43.59L10.3 9.45l-7.72 7.72c-.78.78-.78 2.05 0 2.83L4 21.41c.39.39.9.59 1.41.59.51 0 1.02-.2 1.41-.59l7.78-7.78 2.81-2.81c.8-.78.8-2.07 0-2.86zM5.41 20L4 18.59l7.72-7.72 1.47 1.35L5.41 20z\"/>\n",
              "  </svg>\n",
              "      </button>\n",
              "      \n",
              "  <style>\n",
              "    .colab-df-container {\n",
              "      display:flex;\n",
              "      flex-wrap:wrap;\n",
              "      gap: 12px;\n",
              "    }\n",
              "\n",
              "    .colab-df-convert {\n",
              "      background-color: #E8F0FE;\n",
              "      border: none;\n",
              "      border-radius: 50%;\n",
              "      cursor: pointer;\n",
              "      display: none;\n",
              "      fill: #1967D2;\n",
              "      height: 32px;\n",
              "      padding: 0 0 0 0;\n",
              "      width: 32px;\n",
              "    }\n",
              "\n",
              "    .colab-df-convert:hover {\n",
              "      background-color: #E2EBFA;\n",
              "      box-shadow: 0px 1px 2px rgba(60, 64, 67, 0.3), 0px 1px 3px 1px rgba(60, 64, 67, 0.15);\n",
              "      fill: #174EA6;\n",
              "    }\n",
              "\n",
              "    [theme=dark] .colab-df-convert {\n",
              "      background-color: #3B4455;\n",
              "      fill: #D2E3FC;\n",
              "    }\n",
              "\n",
              "    [theme=dark] .colab-df-convert:hover {\n",
              "      background-color: #434B5C;\n",
              "      box-shadow: 0px 1px 3px 1px rgba(0, 0, 0, 0.15);\n",
              "      filter: drop-shadow(0px 1px 2px rgba(0, 0, 0, 0.3));\n",
              "      fill: #FFFFFF;\n",
              "    }\n",
              "  </style>\n",
              "\n",
              "      <script>\n",
              "        const buttonEl =\n",
              "          document.querySelector('#df-60fa4faa-4bb0-40e0-89fd-ee9b51a12393 button.colab-df-convert');\n",
              "        buttonEl.style.display =\n",
              "          google.colab.kernel.accessAllowed ? 'block' : 'none';\n",
              "\n",
              "        async function convertToInteractive(key) {\n",
              "          const element = document.querySelector('#df-60fa4faa-4bb0-40e0-89fd-ee9b51a12393');\n",
              "          const dataTable =\n",
              "            await google.colab.kernel.invokeFunction('convertToInteractive',\n",
              "                                                     [key], {});\n",
              "          if (!dataTable) return;\n",
              "\n",
              "          const docLinkHtml = 'Like what you see? Visit the ' +\n",
              "            '<a target=\"_blank\" href=https://colab.research.google.com/notebooks/data_table.ipynb>data table notebook</a>'\n",
              "            + ' to learn more about interactive tables.';\n",
              "          element.innerHTML = '';\n",
              "          dataTable['output_type'] = 'display_data';\n",
              "          await google.colab.output.renderOutput(dataTable, element);\n",
              "          const docLink = document.createElement('div');\n",
              "          docLink.innerHTML = docLinkHtml;\n",
              "          element.appendChild(docLink);\n",
              "        }\n",
              "      </script>\n",
              "    </div>\n",
              "  </div>\n",
              "  "
            ]
          },
          "metadata": {},
          "execution_count": 5
        }
      ],
      "source": [
        "df.describe().T"
      ]
    },
    {
      "cell_type": "markdown",
      "metadata": {
        "id": "Ucy_EJRg3BKD"
      },
      "source": [
        "# Module 2: Data Wrangling\n"
      ]
    },
    {
      "cell_type": "markdown",
      "metadata": {
        "id": "s67XblmI3BKD"
      },
      "source": [
        "### Question 2\n",
        "\n",
        "Drop the columns <code>\"id\"</code>  and <code>\"Unnamed: 0\"</code> from axis 1 using the method <code>drop()</code>, then use the method <code>describe()</code> to obtain a statistical summary of the data. Take a screenshot and submit it, make sure the <code>inplace</code> parameter is set to <code>True</code>\n"
      ]
    },
    {
      "cell_type": "code",
      "execution_count": 6,
      "metadata": {
        "jupyter": {
          "outputs_hidden": false
        },
        "id": "3zbVoNcy3BKE"
      },
      "outputs": [],
      "source": [
        "df.drop(['id',\"Unnamed: 0\"],axis =1,inplace = True)\n"
      ]
    },
    {
      "cell_type": "code",
      "source": [
        "df.describe().T"
      ],
      "metadata": {
        "colab": {
          "base_uri": "https://localhost:8080/",
          "height": 645
        },
        "id": "WvuvVIBj_rd-",
        "outputId": "5b18276d-3c47-4f2e-a74a-a552a73e220f"
      },
      "execution_count": 45,
      "outputs": [
        {
          "output_type": "execute_result",
          "data": {
            "text/plain": [
              "                 count           mean            std         min         25%  \\\n",
              "price          21613.0  540088.141767  367127.196483  75000.0000  321950.000   \n",
              "bedrooms       21613.0       3.372870       0.926378      1.0000       3.000   \n",
              "bathrooms      21613.0       2.115736       0.768818      0.5000       1.750   \n",
              "sqft_living    21613.0    2079.899736     918.440897    290.0000    1427.000   \n",
              "sqft_lot       21613.0   15106.967566   41420.511515    520.0000    5040.000   \n",
              "floors         21613.0       1.494309       0.539989      1.0000       1.000   \n",
              "waterfront     21613.0       0.007542       0.086517      0.0000       0.000   \n",
              "view           21613.0       0.234303       0.766318      0.0000       0.000   \n",
              "condition      21613.0       3.409430       0.650743      1.0000       3.000   \n",
              "grade          21613.0       7.656873       1.175459      1.0000       7.000   \n",
              "sqft_above     21613.0    1788.390691     828.090978    290.0000    1190.000   \n",
              "sqft_basement  21613.0     291.509045     442.575043      0.0000       0.000   \n",
              "yr_built       21613.0    1971.005136      29.373411   1900.0000    1951.000   \n",
              "yr_renovated   21613.0      84.402258     401.679240      0.0000       0.000   \n",
              "zipcode        21613.0   98077.939805      53.505026  98001.0000   98033.000   \n",
              "lat            21613.0      47.560053       0.138564     47.1559      47.471   \n",
              "long           21613.0    -122.213896       0.140828   -122.5190    -122.328   \n",
              "sqft_living15  21613.0    1986.552492     685.391304    399.0000    1490.000   \n",
              "sqft_lot15     21613.0   12768.455652   27304.179631    651.0000    5100.000   \n",
              "\n",
              "                       50%         75%           max  \n",
              "price          450000.0000  645000.000  7.700000e+06  \n",
              "bedrooms            3.0000       4.000  3.300000e+01  \n",
              "bathrooms           2.2500       2.500  8.000000e+00  \n",
              "sqft_living      1910.0000    2550.000  1.354000e+04  \n",
              "sqft_lot         7618.0000   10688.000  1.651359e+06  \n",
              "floors              1.5000       2.000  3.500000e+00  \n",
              "waterfront          0.0000       0.000  1.000000e+00  \n",
              "view                0.0000       0.000  4.000000e+00  \n",
              "condition           3.0000       4.000  5.000000e+00  \n",
              "grade               7.0000       8.000  1.300000e+01  \n",
              "sqft_above       1560.0000    2210.000  9.410000e+03  \n",
              "sqft_basement       0.0000     560.000  4.820000e+03  \n",
              "yr_built         1975.0000    1997.000  2.015000e+03  \n",
              "yr_renovated        0.0000       0.000  2.015000e+03  \n",
              "zipcode         98065.0000   98118.000  9.819900e+04  \n",
              "lat                47.5718      47.678  4.777760e+01  \n",
              "long             -122.2300    -122.125 -1.213150e+02  \n",
              "sqft_living15    1840.0000    2360.000  6.210000e+03  \n",
              "sqft_lot15       7620.0000   10083.000  8.712000e+05  "
            ],
            "text/html": [
              "\n",
              "  <div id=\"df-59cc094c-a3b3-4df7-9c0d-e70cee08966f\">\n",
              "    <div class=\"colab-df-container\">\n",
              "      <div>\n",
              "<style scoped>\n",
              "    .dataframe tbody tr th:only-of-type {\n",
              "        vertical-align: middle;\n",
              "    }\n",
              "\n",
              "    .dataframe tbody tr th {\n",
              "        vertical-align: top;\n",
              "    }\n",
              "\n",
              "    .dataframe thead th {\n",
              "        text-align: right;\n",
              "    }\n",
              "</style>\n",
              "<table border=\"1\" class=\"dataframe\">\n",
              "  <thead>\n",
              "    <tr style=\"text-align: right;\">\n",
              "      <th></th>\n",
              "      <th>count</th>\n",
              "      <th>mean</th>\n",
              "      <th>std</th>\n",
              "      <th>min</th>\n",
              "      <th>25%</th>\n",
              "      <th>50%</th>\n",
              "      <th>75%</th>\n",
              "      <th>max</th>\n",
              "    </tr>\n",
              "  </thead>\n",
              "  <tbody>\n",
              "    <tr>\n",
              "      <th>price</th>\n",
              "      <td>21613.0</td>\n",
              "      <td>540088.141767</td>\n",
              "      <td>367127.196483</td>\n",
              "      <td>75000.0000</td>\n",
              "      <td>321950.000</td>\n",
              "      <td>450000.0000</td>\n",
              "      <td>645000.000</td>\n",
              "      <td>7.700000e+06</td>\n",
              "    </tr>\n",
              "    <tr>\n",
              "      <th>bedrooms</th>\n",
              "      <td>21613.0</td>\n",
              "      <td>3.372870</td>\n",
              "      <td>0.926378</td>\n",
              "      <td>1.0000</td>\n",
              "      <td>3.000</td>\n",
              "      <td>3.0000</td>\n",
              "      <td>4.000</td>\n",
              "      <td>3.300000e+01</td>\n",
              "    </tr>\n",
              "    <tr>\n",
              "      <th>bathrooms</th>\n",
              "      <td>21613.0</td>\n",
              "      <td>2.115736</td>\n",
              "      <td>0.768818</td>\n",
              "      <td>0.5000</td>\n",
              "      <td>1.750</td>\n",
              "      <td>2.2500</td>\n",
              "      <td>2.500</td>\n",
              "      <td>8.000000e+00</td>\n",
              "    </tr>\n",
              "    <tr>\n",
              "      <th>sqft_living</th>\n",
              "      <td>21613.0</td>\n",
              "      <td>2079.899736</td>\n",
              "      <td>918.440897</td>\n",
              "      <td>290.0000</td>\n",
              "      <td>1427.000</td>\n",
              "      <td>1910.0000</td>\n",
              "      <td>2550.000</td>\n",
              "      <td>1.354000e+04</td>\n",
              "    </tr>\n",
              "    <tr>\n",
              "      <th>sqft_lot</th>\n",
              "      <td>21613.0</td>\n",
              "      <td>15106.967566</td>\n",
              "      <td>41420.511515</td>\n",
              "      <td>520.0000</td>\n",
              "      <td>5040.000</td>\n",
              "      <td>7618.0000</td>\n",
              "      <td>10688.000</td>\n",
              "      <td>1.651359e+06</td>\n",
              "    </tr>\n",
              "    <tr>\n",
              "      <th>floors</th>\n",
              "      <td>21613.0</td>\n",
              "      <td>1.494309</td>\n",
              "      <td>0.539989</td>\n",
              "      <td>1.0000</td>\n",
              "      <td>1.000</td>\n",
              "      <td>1.5000</td>\n",
              "      <td>2.000</td>\n",
              "      <td>3.500000e+00</td>\n",
              "    </tr>\n",
              "    <tr>\n",
              "      <th>waterfront</th>\n",
              "      <td>21613.0</td>\n",
              "      <td>0.007542</td>\n",
              "      <td>0.086517</td>\n",
              "      <td>0.0000</td>\n",
              "      <td>0.000</td>\n",
              "      <td>0.0000</td>\n",
              "      <td>0.000</td>\n",
              "      <td>1.000000e+00</td>\n",
              "    </tr>\n",
              "    <tr>\n",
              "      <th>view</th>\n",
              "      <td>21613.0</td>\n",
              "      <td>0.234303</td>\n",
              "      <td>0.766318</td>\n",
              "      <td>0.0000</td>\n",
              "      <td>0.000</td>\n",
              "      <td>0.0000</td>\n",
              "      <td>0.000</td>\n",
              "      <td>4.000000e+00</td>\n",
              "    </tr>\n",
              "    <tr>\n",
              "      <th>condition</th>\n",
              "      <td>21613.0</td>\n",
              "      <td>3.409430</td>\n",
              "      <td>0.650743</td>\n",
              "      <td>1.0000</td>\n",
              "      <td>3.000</td>\n",
              "      <td>3.0000</td>\n",
              "      <td>4.000</td>\n",
              "      <td>5.000000e+00</td>\n",
              "    </tr>\n",
              "    <tr>\n",
              "      <th>grade</th>\n",
              "      <td>21613.0</td>\n",
              "      <td>7.656873</td>\n",
              "      <td>1.175459</td>\n",
              "      <td>1.0000</td>\n",
              "      <td>7.000</td>\n",
              "      <td>7.0000</td>\n",
              "      <td>8.000</td>\n",
              "      <td>1.300000e+01</td>\n",
              "    </tr>\n",
              "    <tr>\n",
              "      <th>sqft_above</th>\n",
              "      <td>21613.0</td>\n",
              "      <td>1788.390691</td>\n",
              "      <td>828.090978</td>\n",
              "      <td>290.0000</td>\n",
              "      <td>1190.000</td>\n",
              "      <td>1560.0000</td>\n",
              "      <td>2210.000</td>\n",
              "      <td>9.410000e+03</td>\n",
              "    </tr>\n",
              "    <tr>\n",
              "      <th>sqft_basement</th>\n",
              "      <td>21613.0</td>\n",
              "      <td>291.509045</td>\n",
              "      <td>442.575043</td>\n",
              "      <td>0.0000</td>\n",
              "      <td>0.000</td>\n",
              "      <td>0.0000</td>\n",
              "      <td>560.000</td>\n",
              "      <td>4.820000e+03</td>\n",
              "    </tr>\n",
              "    <tr>\n",
              "      <th>yr_built</th>\n",
              "      <td>21613.0</td>\n",
              "      <td>1971.005136</td>\n",
              "      <td>29.373411</td>\n",
              "      <td>1900.0000</td>\n",
              "      <td>1951.000</td>\n",
              "      <td>1975.0000</td>\n",
              "      <td>1997.000</td>\n",
              "      <td>2.015000e+03</td>\n",
              "    </tr>\n",
              "    <tr>\n",
              "      <th>yr_renovated</th>\n",
              "      <td>21613.0</td>\n",
              "      <td>84.402258</td>\n",
              "      <td>401.679240</td>\n",
              "      <td>0.0000</td>\n",
              "      <td>0.000</td>\n",
              "      <td>0.0000</td>\n",
              "      <td>0.000</td>\n",
              "      <td>2.015000e+03</td>\n",
              "    </tr>\n",
              "    <tr>\n",
              "      <th>zipcode</th>\n",
              "      <td>21613.0</td>\n",
              "      <td>98077.939805</td>\n",
              "      <td>53.505026</td>\n",
              "      <td>98001.0000</td>\n",
              "      <td>98033.000</td>\n",
              "      <td>98065.0000</td>\n",
              "      <td>98118.000</td>\n",
              "      <td>9.819900e+04</td>\n",
              "    </tr>\n",
              "    <tr>\n",
              "      <th>lat</th>\n",
              "      <td>21613.0</td>\n",
              "      <td>47.560053</td>\n",
              "      <td>0.138564</td>\n",
              "      <td>47.1559</td>\n",
              "      <td>47.471</td>\n",
              "      <td>47.5718</td>\n",
              "      <td>47.678</td>\n",
              "      <td>4.777760e+01</td>\n",
              "    </tr>\n",
              "    <tr>\n",
              "      <th>long</th>\n",
              "      <td>21613.0</td>\n",
              "      <td>-122.213896</td>\n",
              "      <td>0.140828</td>\n",
              "      <td>-122.5190</td>\n",
              "      <td>-122.328</td>\n",
              "      <td>-122.2300</td>\n",
              "      <td>-122.125</td>\n",
              "      <td>-1.213150e+02</td>\n",
              "    </tr>\n",
              "    <tr>\n",
              "      <th>sqft_living15</th>\n",
              "      <td>21613.0</td>\n",
              "      <td>1986.552492</td>\n",
              "      <td>685.391304</td>\n",
              "      <td>399.0000</td>\n",
              "      <td>1490.000</td>\n",
              "      <td>1840.0000</td>\n",
              "      <td>2360.000</td>\n",
              "      <td>6.210000e+03</td>\n",
              "    </tr>\n",
              "    <tr>\n",
              "      <th>sqft_lot15</th>\n",
              "      <td>21613.0</td>\n",
              "      <td>12768.455652</td>\n",
              "      <td>27304.179631</td>\n",
              "      <td>651.0000</td>\n",
              "      <td>5100.000</td>\n",
              "      <td>7620.0000</td>\n",
              "      <td>10083.000</td>\n",
              "      <td>8.712000e+05</td>\n",
              "    </tr>\n",
              "  </tbody>\n",
              "</table>\n",
              "</div>\n",
              "      <button class=\"colab-df-convert\" onclick=\"convertToInteractive('df-59cc094c-a3b3-4df7-9c0d-e70cee08966f')\"\n",
              "              title=\"Convert this dataframe to an interactive table.\"\n",
              "              style=\"display:none;\">\n",
              "        \n",
              "  <svg xmlns=\"http://www.w3.org/2000/svg\" height=\"24px\"viewBox=\"0 0 24 24\"\n",
              "       width=\"24px\">\n",
              "    <path d=\"M0 0h24v24H0V0z\" fill=\"none\"/>\n",
              "    <path d=\"M18.56 5.44l.94 2.06.94-2.06 2.06-.94-2.06-.94-.94-2.06-.94 2.06-2.06.94zm-11 1L8.5 8.5l.94-2.06 2.06-.94-2.06-.94L8.5 2.5l-.94 2.06-2.06.94zm10 10l.94 2.06.94-2.06 2.06-.94-2.06-.94-.94-2.06-.94 2.06-2.06.94z\"/><path d=\"M17.41 7.96l-1.37-1.37c-.4-.4-.92-.59-1.43-.59-.52 0-1.04.2-1.43.59L10.3 9.45l-7.72 7.72c-.78.78-.78 2.05 0 2.83L4 21.41c.39.39.9.59 1.41.59.51 0 1.02-.2 1.41-.59l7.78-7.78 2.81-2.81c.8-.78.8-2.07 0-2.86zM5.41 20L4 18.59l7.72-7.72 1.47 1.35L5.41 20z\"/>\n",
              "  </svg>\n",
              "      </button>\n",
              "      \n",
              "  <style>\n",
              "    .colab-df-container {\n",
              "      display:flex;\n",
              "      flex-wrap:wrap;\n",
              "      gap: 12px;\n",
              "    }\n",
              "\n",
              "    .colab-df-convert {\n",
              "      background-color: #E8F0FE;\n",
              "      border: none;\n",
              "      border-radius: 50%;\n",
              "      cursor: pointer;\n",
              "      display: none;\n",
              "      fill: #1967D2;\n",
              "      height: 32px;\n",
              "      padding: 0 0 0 0;\n",
              "      width: 32px;\n",
              "    }\n",
              "\n",
              "    .colab-df-convert:hover {\n",
              "      background-color: #E2EBFA;\n",
              "      box-shadow: 0px 1px 2px rgba(60, 64, 67, 0.3), 0px 1px 3px 1px rgba(60, 64, 67, 0.15);\n",
              "      fill: #174EA6;\n",
              "    }\n",
              "\n",
              "    [theme=dark] .colab-df-convert {\n",
              "      background-color: #3B4455;\n",
              "      fill: #D2E3FC;\n",
              "    }\n",
              "\n",
              "    [theme=dark] .colab-df-convert:hover {\n",
              "      background-color: #434B5C;\n",
              "      box-shadow: 0px 1px 3px 1px rgba(0, 0, 0, 0.15);\n",
              "      filter: drop-shadow(0px 1px 2px rgba(0, 0, 0, 0.3));\n",
              "      fill: #FFFFFF;\n",
              "    }\n",
              "  </style>\n",
              "\n",
              "      <script>\n",
              "        const buttonEl =\n",
              "          document.querySelector('#df-59cc094c-a3b3-4df7-9c0d-e70cee08966f button.colab-df-convert');\n",
              "        buttonEl.style.display =\n",
              "          google.colab.kernel.accessAllowed ? 'block' : 'none';\n",
              "\n",
              "        async function convertToInteractive(key) {\n",
              "          const element = document.querySelector('#df-59cc094c-a3b3-4df7-9c0d-e70cee08966f');\n",
              "          const dataTable =\n",
              "            await google.colab.kernel.invokeFunction('convertToInteractive',\n",
              "                                                     [key], {});\n",
              "          if (!dataTable) return;\n",
              "\n",
              "          const docLinkHtml = 'Like what you see? Visit the ' +\n",
              "            '<a target=\"_blank\" href=https://colab.research.google.com/notebooks/data_table.ipynb>data table notebook</a>'\n",
              "            + ' to learn more about interactive tables.';\n",
              "          element.innerHTML = '';\n",
              "          dataTable['output_type'] = 'display_data';\n",
              "          await google.colab.output.renderOutput(dataTable, element);\n",
              "          const docLink = document.createElement('div');\n",
              "          docLink.innerHTML = docLinkHtml;\n",
              "          element.appendChild(docLink);\n",
              "        }\n",
              "      </script>\n",
              "    </div>\n",
              "  </div>\n",
              "  "
            ]
          },
          "metadata": {},
          "execution_count": 45
        }
      ]
    },
    {
      "cell_type": "markdown",
      "metadata": {
        "id": "7E-b6PpS3BKE"
      },
      "source": [
        "We can see we have missing values for the columns <code> bedrooms</code>  and <code> bathrooms </code>\n"
      ]
    },
    {
      "cell_type": "code",
      "execution_count": 8,
      "metadata": {
        "jupyter": {
          "outputs_hidden": false
        },
        "colab": {
          "base_uri": "https://localhost:8080/"
        },
        "id": "UUlzWQ4s3BKE",
        "outputId": "e778eb45-9261-4418-8a22-d6a2824abffa"
      },
      "outputs": [
        {
          "output_type": "stream",
          "name": "stdout",
          "text": [
            "number of NaN values for the column bedrooms : 13\n",
            "number of NaN values for the column bathrooms : 10\n"
          ]
        }
      ],
      "source": [
        "print(\"number of NaN values for the column bedrooms :\", df['bedrooms'].isnull().sum())\n",
        "print(\"number of NaN values for the column bathrooms :\", df['bathrooms'].isnull().sum())\n"
      ]
    },
    {
      "cell_type": "markdown",
      "metadata": {
        "id": "4Qw6NzoH3BKF"
      },
      "source": [
        "We can replace the missing values of the column <code>'bedrooms'</code> with the mean of the column  <code>'bedrooms' </code> using the method <code>replace()</code>. Don't forget to set the <code>inplace</code> parameter to <code>True</code>\n"
      ]
    },
    {
      "cell_type": "code",
      "execution_count": 9,
      "metadata": {
        "id": "YPp2zmfU3BKF"
      },
      "outputs": [],
      "source": [
        "mean=df['bedrooms'].mean()\n",
        "df['bedrooms'].replace(np.nan,mean, inplace=True)"
      ]
    },
    {
      "cell_type": "markdown",
      "metadata": {
        "id": "s3Ekhs_p3BKF"
      },
      "source": [
        "We also replace the missing values of the column <code>'bathrooms'</code> with the mean of the column  <code>'bathrooms' </code> using the method <code>replace()</code>. Don't forget to set the <code> inplace </code>  parameter top <code> True </code>\n"
      ]
    },
    {
      "cell_type": "code",
      "execution_count": 10,
      "metadata": {
        "id": "IeC5VLN03BKF"
      },
      "outputs": [],
      "source": [
        "mean=df['bathrooms'].mean()\n",
        "df['bathrooms'].replace(np.nan,mean, inplace=True)"
      ]
    },
    {
      "cell_type": "code",
      "execution_count": 11,
      "metadata": {
        "jupyter": {
          "outputs_hidden": false
        },
        "colab": {
          "base_uri": "https://localhost:8080/"
        },
        "id": "mbqxolfR3BKG",
        "outputId": "67e168ef-995e-4fa7-a68c-48087110dd14"
      },
      "outputs": [
        {
          "output_type": "stream",
          "name": "stdout",
          "text": [
            "number of NaN values for the column bedrooms : 0\n",
            "number of NaN values for the column bathrooms : 0\n"
          ]
        }
      ],
      "source": [
        "print(\"number of NaN values for the column bedrooms :\", df['bedrooms'].isnull().sum())\n",
        "print(\"number of NaN values for the column bathrooms :\", df['bathrooms'].isnull().sum())"
      ]
    },
    {
      "cell_type": "markdown",
      "metadata": {
        "id": "CqJ8l3Gz3BKG"
      },
      "source": [
        "# Module 3: Exploratory Data Analysis\n"
      ]
    },
    {
      "cell_type": "markdown",
      "metadata": {
        "id": "0iDDi1IG3BKG"
      },
      "source": [
        "### Question 3\n",
        "\n",
        "Use the method <code>value_counts</code> to count the number of houses with unique floor values, use the method <code>.to_frame()</code> to convert it to a dataframe.\n"
      ]
    },
    {
      "cell_type": "code",
      "execution_count": 12,
      "metadata": {
        "jupyter": {
          "outputs_hidden": false
        },
        "colab": {
          "base_uri": "https://localhost:8080/",
          "height": 237
        },
        "id": "As0czyIu3BKH",
        "outputId": "7433683a-b4c5-4f60-8d39-9f1df65acf18"
      },
      "outputs": [
        {
          "output_type": "execute_result",
          "data": {
            "text/plain": [
              "     floors\n",
              "1.0   10680\n",
              "2.0    8241\n",
              "1.5    1910\n",
              "3.0     613\n",
              "2.5     161\n",
              "3.5       8"
            ],
            "text/html": [
              "\n",
              "  <div id=\"df-8027968c-902a-4814-a4f6-e2f731cd19d5\">\n",
              "    <div class=\"colab-df-container\">\n",
              "      <div>\n",
              "<style scoped>\n",
              "    .dataframe tbody tr th:only-of-type {\n",
              "        vertical-align: middle;\n",
              "    }\n",
              "\n",
              "    .dataframe tbody tr th {\n",
              "        vertical-align: top;\n",
              "    }\n",
              "\n",
              "    .dataframe thead th {\n",
              "        text-align: right;\n",
              "    }\n",
              "</style>\n",
              "<table border=\"1\" class=\"dataframe\">\n",
              "  <thead>\n",
              "    <tr style=\"text-align: right;\">\n",
              "      <th></th>\n",
              "      <th>floors</th>\n",
              "    </tr>\n",
              "  </thead>\n",
              "  <tbody>\n",
              "    <tr>\n",
              "      <th>1.0</th>\n",
              "      <td>10680</td>\n",
              "    </tr>\n",
              "    <tr>\n",
              "      <th>2.0</th>\n",
              "      <td>8241</td>\n",
              "    </tr>\n",
              "    <tr>\n",
              "      <th>1.5</th>\n",
              "      <td>1910</td>\n",
              "    </tr>\n",
              "    <tr>\n",
              "      <th>3.0</th>\n",
              "      <td>613</td>\n",
              "    </tr>\n",
              "    <tr>\n",
              "      <th>2.5</th>\n",
              "      <td>161</td>\n",
              "    </tr>\n",
              "    <tr>\n",
              "      <th>3.5</th>\n",
              "      <td>8</td>\n",
              "    </tr>\n",
              "  </tbody>\n",
              "</table>\n",
              "</div>\n",
              "      <button class=\"colab-df-convert\" onclick=\"convertToInteractive('df-8027968c-902a-4814-a4f6-e2f731cd19d5')\"\n",
              "              title=\"Convert this dataframe to an interactive table.\"\n",
              "              style=\"display:none;\">\n",
              "        \n",
              "  <svg xmlns=\"http://www.w3.org/2000/svg\" height=\"24px\"viewBox=\"0 0 24 24\"\n",
              "       width=\"24px\">\n",
              "    <path d=\"M0 0h24v24H0V0z\" fill=\"none\"/>\n",
              "    <path d=\"M18.56 5.44l.94 2.06.94-2.06 2.06-.94-2.06-.94-.94-2.06-.94 2.06-2.06.94zm-11 1L8.5 8.5l.94-2.06 2.06-.94-2.06-.94L8.5 2.5l-.94 2.06-2.06.94zm10 10l.94 2.06.94-2.06 2.06-.94-2.06-.94-.94-2.06-.94 2.06-2.06.94z\"/><path d=\"M17.41 7.96l-1.37-1.37c-.4-.4-.92-.59-1.43-.59-.52 0-1.04.2-1.43.59L10.3 9.45l-7.72 7.72c-.78.78-.78 2.05 0 2.83L4 21.41c.39.39.9.59 1.41.59.51 0 1.02-.2 1.41-.59l7.78-7.78 2.81-2.81c.8-.78.8-2.07 0-2.86zM5.41 20L4 18.59l7.72-7.72 1.47 1.35L5.41 20z\"/>\n",
              "  </svg>\n",
              "      </button>\n",
              "      \n",
              "  <style>\n",
              "    .colab-df-container {\n",
              "      display:flex;\n",
              "      flex-wrap:wrap;\n",
              "      gap: 12px;\n",
              "    }\n",
              "\n",
              "    .colab-df-convert {\n",
              "      background-color: #E8F0FE;\n",
              "      border: none;\n",
              "      border-radius: 50%;\n",
              "      cursor: pointer;\n",
              "      display: none;\n",
              "      fill: #1967D2;\n",
              "      height: 32px;\n",
              "      padding: 0 0 0 0;\n",
              "      width: 32px;\n",
              "    }\n",
              "\n",
              "    .colab-df-convert:hover {\n",
              "      background-color: #E2EBFA;\n",
              "      box-shadow: 0px 1px 2px rgba(60, 64, 67, 0.3), 0px 1px 3px 1px rgba(60, 64, 67, 0.15);\n",
              "      fill: #174EA6;\n",
              "    }\n",
              "\n",
              "    [theme=dark] .colab-df-convert {\n",
              "      background-color: #3B4455;\n",
              "      fill: #D2E3FC;\n",
              "    }\n",
              "\n",
              "    [theme=dark] .colab-df-convert:hover {\n",
              "      background-color: #434B5C;\n",
              "      box-shadow: 0px 1px 3px 1px rgba(0, 0, 0, 0.15);\n",
              "      filter: drop-shadow(0px 1px 2px rgba(0, 0, 0, 0.3));\n",
              "      fill: #FFFFFF;\n",
              "    }\n",
              "  </style>\n",
              "\n",
              "      <script>\n",
              "        const buttonEl =\n",
              "          document.querySelector('#df-8027968c-902a-4814-a4f6-e2f731cd19d5 button.colab-df-convert');\n",
              "        buttonEl.style.display =\n",
              "          google.colab.kernel.accessAllowed ? 'block' : 'none';\n",
              "\n",
              "        async function convertToInteractive(key) {\n",
              "          const element = document.querySelector('#df-8027968c-902a-4814-a4f6-e2f731cd19d5');\n",
              "          const dataTable =\n",
              "            await google.colab.kernel.invokeFunction('convertToInteractive',\n",
              "                                                     [key], {});\n",
              "          if (!dataTable) return;\n",
              "\n",
              "          const docLinkHtml = 'Like what you see? Visit the ' +\n",
              "            '<a target=\"_blank\" href=https://colab.research.google.com/notebooks/data_table.ipynb>data table notebook</a>'\n",
              "            + ' to learn more about interactive tables.';\n",
              "          element.innerHTML = '';\n",
              "          dataTable['output_type'] = 'display_data';\n",
              "          await google.colab.output.renderOutput(dataTable, element);\n",
              "          const docLink = document.createElement('div');\n",
              "          docLink.innerHTML = docLinkHtml;\n",
              "          element.appendChild(docLink);\n",
              "        }\n",
              "      </script>\n",
              "    </div>\n",
              "  </div>\n",
              "  "
            ]
          },
          "metadata": {},
          "execution_count": 12
        }
      ],
      "source": [
        "df['floors'].value_counts().to_frame()"
      ]
    },
    {
      "cell_type": "markdown",
      "metadata": {
        "id": "33_ZZLaH3BKH"
      },
      "source": [
        "### Question 4\n",
        "\n",
        "Use the function <code>boxplot</code> in the seaborn library  to  determine whether houses with a waterfront view or without a waterfront view have more price outliers.\n"
      ]
    },
    {
      "cell_type": "code",
      "execution_count": 47,
      "metadata": {
        "jupyter": {
          "outputs_hidden": false
        },
        "colab": {
          "base_uri": "https://localhost:8080/",
          "height": 295
        },
        "id": "NLsNJR5F3BKH",
        "outputId": "f83a49fd-7083-4246-a895-3f8506292e21"
      },
      "outputs": [
        {
          "output_type": "display_data",
          "data": {
            "text/plain": [
              "<Figure size 432x288 with 1 Axes>"
            ],
            "image/png": "[encoded data removed]"
          },
          "metadata": {
            "needs_background": "light"
          }
        }
      ],
      "source": [
        "sns.boxplot(x='waterfront',y = \"price\",data=df)\n",
        "plt.title(\"WaterFront Vs Price\")\n",
        "plt.xlabel(\"waterfront\")\n",
        "plt.ylabel(\"price\")\n",
        "plt.show()"
      ]
    },
    {
      "cell_type": "markdown",
      "metadata": {
        "id": "XMil6qXs3BKH"
      },
      "source": [
        "### Question 5\n",
        "\n",
        "Use the function <code>regplot</code>  in the seaborn library  to  determine if the feature <code>sqft_above</code> is negatively or positively correlated with price.\n"
      ]
    },
    {
      "cell_type": "code",
      "execution_count": 51,
      "metadata": {
        "jupyter": {
          "outputs_hidden": false
        },
        "id": "_xG2ItUc3BKH",
        "colab": {
          "base_uri": "https://localhost:8080/",
          "height": 308
        },
        "outputId": "efa16db6-3008-4fcf-96f7-6d64e94a4ae9"
      },
      "outputs": [
        {
          "output_type": "execute_result",
          "data": {
            "text/plain": [
              "(0.0, 8081250.0)"
            ]
          },
          "metadata": {},
          "execution_count": 51
        },
        {
          "output_type": "display_data",
          "data": {
            "text/plain": [
              "<Figure size 432x288 with 1 Axes>"
            ],
            "image/png": "[encoded data removed]"
          },
          "metadata": {
            "needs_background": "light"
          }
        }
      ],
      "source": [
        "sns.regplot(data = df,x = \"sqft_above\",y =\"price\",color=\"red\",marker = \"+\")\n",
        "plt.ylim(0,)\n"
      ]
    },
    {
      "cell_type": "markdown",
      "metadata": {
        "id": "_t4ZEOch3BKI"
      },
      "source": [
        "We can use the Pandas method <code>corr()</code>  to find the feature other than price that is most correlated with price.\n"
      ]
    },
    {
      "cell_type": "code",
      "execution_count": 19,
      "metadata": {
        "jupyter": {
          "outputs_hidden": false
        },
        "id": "c-SY8iA-3BKI",
        "colab": {
          "base_uri": "https://localhost:8080/"
        },
        "outputId": "bbf9524e-3909-4190-fd8e-ec8e3dddfbbe"
      },
      "outputs": [
        {
          "output_type": "execute_result",
          "data": {
            "text/plain": [
              "zipcode         -0.053203\n",
              "long             0.021626\n",
              "condition        0.036362\n",
              "yr_built         0.054012\n",
              "sqft_lot15       0.082447\n",
              "sqft_lot         0.089661\n",
              "yr_renovated     0.126434\n",
              "floors           0.256794\n",
              "waterfront       0.266369\n",
              "lat              0.307003\n",
              "bedrooms         0.308797\n",
              "sqft_basement    0.323816\n",
              "view             0.397293\n",
              "bathrooms        0.525738\n",
              "sqft_living15    0.585379\n",
              "sqft_above       0.605567\n",
              "grade            0.667434\n",
              "sqft_living      0.702035\n",
              "price            1.000000\n",
              "Name: price, dtype: float64"
            ]
          },
          "metadata": {},
          "execution_count": 19
        }
      ],
      "source": [
        "df.corr()['price'].sort_values()"
      ]
    },
    {
      "cell_type": "markdown",
      "metadata": {
        "id": "x10Knl7y3BKI"
      },
      "source": [
        "# Module 4: Model Development\n"
      ]
    },
    {
      "cell_type": "markdown",
      "metadata": {
        "id": "QmU2qK0r3BKI"
      },
      "source": [
        "We can Fit a linear regression model using the  longitude feature <code>'long'</code> and  caculate the R^2.\n"
      ]
    },
    {
      "cell_type": "code",
      "execution_count": 20,
      "metadata": {
        "jupyter": {
          "outputs_hidden": false
        },
        "id": "-iiloq1J3BKJ",
        "colab": {
          "base_uri": "https://localhost:8080/"
        },
        "outputId": "ba5ae58f-2de2-4f0c-d827-5694da1a3154"
      },
      "outputs": [
        {
          "output_type": "execute_result",
          "data": {
            "text/plain": [
              "0.00046769430149007363"
            ]
          },
          "metadata": {},
          "execution_count": 20
        }
      ],
      "source": [
        "X = df[['long']]\n",
        "Y = df['price']\n",
        "lm = LinearRegression()\n",
        "lm.fit(X,Y)\n",
        "lm.score(X, Y)"
      ]
    },
    {
      "cell_type": "markdown",
      "metadata": {
        "id": "8kE2iL813BKJ"
      },
      "source": [
        "### Question  6\n",
        "\n",
        "Fit a linear regression model to predict the <code>'price'</code> using the feature <code>'sqft_living'</code> then calculate the R^2. Take a screenshot of your code and the value of the R^2.\n"
      ]
    },
    {
      "cell_type": "code",
      "execution_count": 22,
      "metadata": {
        "jupyter": {
          "outputs_hidden": false
        },
        "id": "Lav5cPPj3BKJ",
        "colab": {
          "base_uri": "https://localhost:8080/"
        },
        "outputId": "072fdd54-730f-413f-872f-36119d66df52"
      },
      "outputs": [
        {
          "output_type": "execute_result",
          "data": {
            "text/plain": [
              "0.4928532179037931"
            ]
          },
          "metadata": {},
          "execution_count": 22
        }
      ],
      "source": [
        "X = df[[\"sqft_living\"]]\n",
        "Y = df[\"price\"]\n",
        "lm = LinearRegression()\n",
        "lm.fit(X,Y)\n",
        "lm.score(X,Y)"
      ]
    },
    {
      "cell_type": "markdown",
      "metadata": {
        "id": "21GOYyll3BKJ"
      },
      "source": [
        "### Question 7\n",
        "\n",
        "Fit a linear regression model to predict the <code>'price'</code> using the list of features:\n"
      ]
    },
    {
      "cell_type": "code",
      "execution_count": 23,
      "metadata": {
        "id": "hX73GTqc3BKK"
      },
      "outputs": [],
      "source": [
        "features =[\"floors\", \"waterfront\",\"lat\" ,\"bedrooms\" ,\"sqft_basement\" ,\"view\" ,\"bathrooms\",\"sqft_living15\",\"sqft_above\",\"grade\",\"sqft_living\"]     "
      ]
    },
    {
      "cell_type": "markdown",
      "metadata": {
        "id": "pRntnxtR3BKK"
      },
      "source": [
        "Then calculate the R^2. Take a screenshot of your code.\n"
      ]
    },
    {
      "cell_type": "code",
      "execution_count": 29,
      "metadata": {
        "jupyter": {
          "outputs_hidden": false
        },
        "id": "n34wTA_53BKK",
        "colab": {
          "base_uri": "https://localhost:8080/"
        },
        "outputId": "119c73bc-1ddf-4fad-f61c-0c1a986c9ba8"
      },
      "outputs": [
        {
          "output_type": "stream",
          "name": "stdout",
          "text": [
            "R^2 Value is : 0.6576537175949295\n"
          ]
        }
      ],
      "source": [
        "lm1 = LinearRegression()\n",
        "lm1.fit(df[features],df[\"price\"])\n",
        "print('R^2 Value is :' , lm1.score(df[features],df[\"price\"]))"
      ]
    },
    {
      "cell_type": "markdown",
      "metadata": {
        "id": "-iKbDyT83BKL"
      },
      "source": [
        "### This will help with Question 8\n",
        "\n",
        "Create a list of tuples, the first element in the tuple contains the name of the estimator:\n",
        "\n",
        "<code>'scale'</code>\n",
        "\n",
        "<code>'polynomial'</code>\n",
        "\n",
        "<code>'model'</code>\n",
        "\n",
        "The second element in the tuple  contains the model constructor\n",
        "\n",
        "<code>StandardScaler()</code>\n",
        "\n",
        "<code>PolynomialFeatures(include_bias=False)</code>\n",
        "\n",
        "<code>LinearRegression()</code>\n"
      ]
    },
    {
      "cell_type": "code",
      "execution_count": 26,
      "metadata": {
        "id": "sg1K7_SJ3BKL"
      },
      "outputs": [],
      "source": [
        "Input=[('scale',StandardScaler()),('polynomial', PolynomialFeatures(include_bias=False)),('model',LinearRegression())]"
      ]
    },
    {
      "cell_type": "markdown",
      "metadata": {
        "id": "hKrPzhnd3BKL"
      },
      "source": [
        "### Question 8\n",
        "\n",
        "Use the list to create a pipeline object to predict the 'price', fit the object using the features in the list <code>features</code>, and calculate the R^2.\n"
      ]
    },
    {
      "cell_type": "code",
      "execution_count": 30,
      "metadata": {
        "jupyter": {
          "outputs_hidden": false
        },
        "id": "nQeuogcP3BKM",
        "colab": {
          "base_uri": "https://localhost:8080/"
        },
        "outputId": "1ca99788-cd6b-4cee-a040-9a4a8b1d98ef"
      },
      "outputs": [
        {
          "output_type": "execute_result",
          "data": {
            "text/plain": [
              "0.7513411741799744"
            ]
          },
          "metadata": {},
          "execution_count": 30
        }
      ],
      "source": [
        "pipe = Pipeline(Input)\n",
        "pipe.fit(df[features],df[\"price\"])\n",
        "pipe.score(df[features],df[\"price\"])"
      ]
    },
    {
      "cell_type": "markdown",
      "metadata": {
        "id": "yYWww8873BKM"
      },
      "source": [
        "# Module 5: Model Evaluation and Refinement\n"
      ]
    },
    {
      "cell_type": "markdown",
      "metadata": {
        "id": "dx1TzwaW3BKM"
      },
      "source": [
        "Import the necessary modules:\n"
      ]
    },
    {
      "cell_type": "code",
      "execution_count": 31,
      "metadata": {
        "jupyter": {
          "outputs_hidden": false
        },
        "id": "z4Lckesb3BKM",
        "colab": {
          "base_uri": "https://localhost:8080/"
        },
        "outputId": "2f0f8088-1f7f-4aa2-8798-dfb0b6563502"
      },
      "outputs": [
        {
          "output_type": "stream",
          "name": "stdout",
          "text": [
            "done\n"
          ]
        }
      ],
      "source": [
        "from sklearn.model_selection import cross_val_score\n",
        "from sklearn.model_selection import train_test_split\n",
        "print(\"done\")"
      ]
    },
    {
      "cell_type": "markdown",
      "metadata": {
        "id": "VtErSETz3BKN"
      },
      "source": [
        "We will split the data into training and testing sets:\n"
      ]
    },
    {
      "cell_type": "code",
      "execution_count": 32,
      "metadata": {
        "jupyter": {
          "outputs_hidden": false
        },
        "id": "yevR8tey3BKN",
        "colab": {
          "base_uri": "https://localhost:8080/"
        },
        "outputId": "9a6d3287-008a-4293-beb3-c5515541ad48"
      },
      "outputs": [
        {
          "output_type": "stream",
          "name": "stdout",
          "text": [
            "number of test samples: 3242\n",
            "number of training samples: 18371\n"
          ]
        }
      ],
      "source": [
        "features =[\"floors\", \"waterfront\",\"lat\" ,\"bedrooms\" ,\"sqft_basement\" ,\"view\" ,\"bathrooms\",\"sqft_living15\",\"sqft_above\",\"grade\",\"sqft_living\"]    \n",
        "X = df[features]\n",
        "Y = df['price']\n",
        "\n",
        "x_train, x_test, y_train, y_test = train_test_split(X, Y, test_size=0.15, random_state=1)\n",
        "\n",
        "\n",
        "print(\"number of test samples:\", x_test.shape[0])\n",
        "print(\"number of training samples:\",x_train.shape[0])"
      ]
    },
    {
      "cell_type": "markdown",
      "metadata": {
        "id": "Nou1mgKr3BKN"
      },
      "source": [
        "### Question 9\n",
        "\n",
        "Create and fit a Ridge regression object using the training data, set the regularization parameter to 0.1, and calculate the R^2 using the test data.\n"
      ]
    },
    {
      "cell_type": "code",
      "execution_count": 34,
      "metadata": {
        "id": "Yj67Lkef3BKN"
      },
      "outputs": [],
      "source": [
        "from sklearn.linear_model import Ridge"
      ]
    },
    {
      "cell_type": "code",
      "execution_count": 36,
      "metadata": {
        "jupyter": {
          "outputs_hidden": false
        },
        "id": "y75J-9tM3BKO",
        "colab": {
          "base_uri": "https://localhost:8080/"
        },
        "outputId": "1f4a78f0-eb7b-4e9b-8b64-419238f43828"
      },
      "outputs": [
        {
          "output_type": "execute_result",
          "data": {
            "text/plain": [
              "0.6478759163939114"
            ]
          },
          "metadata": {},
          "execution_count": 36
        }
      ],
      "source": [
        "rd_model = Ridge(alpha=0.1)\n",
        "rd_model.fit(x_train,y_train)\n",
        "rd_model.score(x_test,y_test)"
      ]
    },
    {
      "cell_type": "markdown",
      "metadata": {
        "id": "QEUCfi173BKO"
      },
      "source": [
        "### Question 10\n",
        "\n",
        "Perform a second order polynomial transform on both the training data and testing data. Create and fit a Ridge regression object using the training data, set the regularisation parameter to 0.1, and calculate the R^2 utilising the test data provided. Take a screenshot of your code and the R^2.\n"
      ]
    },
    {
      "cell_type": "code",
      "execution_count": 41,
      "metadata": {
        "jupyter": {
          "outputs_hidden": false
        },
        "id": "g95C6-la3BKO",
        "colab": {
          "base_uri": "https://localhost:8080/"
        },
        "outputId": "75816747-3f18-4f40-eddc-cb94c6d5d686"
      },
      "outputs": [
        {
          "output_type": "execute_result",
          "data": {
            "text/plain": [
              "0.7002744290734926"
            ]
          },
          "metadata": {},
          "execution_count": 41
        }
      ],
      "source": [
        "pr = PolynomialFeatures(degree = 2)\n",
        "train_pr = pr.fit_transform(x_train)\n",
        "test_pr = pr.fit_transform(x_test)\n",
        "ridge_model = Ridge(alpha = 0.1)\n",
        "ridge_model.fit(train_pr,y_train)\n",
        "ridge_model.score(test_pr,y_test)\n"
      ]
    },
    {
      "cell_type": "markdown",
      "metadata": {
        "id": "1qdbvVKq3BKO"
      },
      "source": [
        "<h2>About the Authors:</h2> \n",
        "\n",
        "<a href=\"https://www.linkedin.com/in/joseph-s-50398b136/?utm_medium=Exinfluencer&utm_source=Exinfluencer&utm_content=000026UJ&utm_term=10006555&utm_id=NA-SkillsNetwork-Channel-SkillsNetworkCoursesIBMDeveloperSkillsNetworkDA0101ENSkillsNetwork20235326-2022-01-01\">Joseph Santarcangelo</a> has a PhD in Electrical Engineering, his research focused on using machine learning, signal processing, and computer vision to determine how videos impact human cognition. Joseph has been working for IBM since he completed his PhD.\n"
      ]
    },
    {
      "cell_type": "markdown",
      "metadata": {
        "id": "OlcDRKhL3BKP"
      },
      "source": [
        "Other contributors: <a href=\"https://www.linkedin.com/in/michelleccarey/?utm_medium=Exinfluencer&utm_source=Exinfluencer&utm_content=000026UJ&utm_term=10006555&utm_id=NA-SkillsNetwork-Channel-SkillsNetworkCoursesIBMDeveloperSkillsNetworkDA0101ENSkillsNetwork20235326-2022-01-01\">Michelle Carey</a>, <a href=\"https://www.linkedin.com/in/jiahui-mavis-zhou-a4537814a?utm_medium=Exinfluencer&utm_source=Exinfluencer&utm_content=000026UJ&utm_term=10006555&utm_id=NA-SkillsNetwork-Channel-SkillsNetworkCoursesIBMDeveloperSkillsNetworkDA0101ENSkillsNetwork20235326-2022-01-01\">Mavis Zhou</a>\n"
      ]
    },
    {
      "cell_type": "markdown",
      "metadata": {
        "id": "QsZiNeQ-3BKP"
      },
      "source": [
        "## Change Log\n",
        "\n",
        "| Date (YYYY-MM-DD) | Version | Changed By      | Change Description                           |\n",
        "| ----------------- | ------- | --------------- | -------------------------------------------- |\n",
        "| 2022-07-29        | 2.3     | Lakshmi Holla   | Added library import                         |\n",
        "| 2020-12-01        | 2.2     | Aije Egwaikhide | Coverted Data describtion from text to table |\n",
        "| 2020-10-06        | 2.1     | Lakshmi Holla   | Changed markdown instruction of Question1    |\n",
        "| 2020-08-27        | 2.0     | Malika Singla   | Added lab to GitLab                          |\n",
        "\n",
        "<hr>\n",
        "\n",
        "## <h3 align=\"center\"> © IBM Corporation 2020. All rights reserved. <h3/>\n",
        "\n",
        "<p>\n"
      ]
    }
  ],
  "metadata": {
    "kernelspec": {
      "display_name": "Python",
      "language": "python",
      "name": "conda-env-python-py"
    },
    "language_info": {
      "codemirror_mode": {
        "name": "ipython",
        "version": 3
      },
      "file_extension": ".py",
      "mimetype": "text/x-python",
      "name": "python",
      "nbconvert_exporter": "python",
      "pygments_lexer": "ipython3",
      "version": "3.7.12"
    },
    "colab": {
      "provenance": [],
      "include_colab_link": true
    }
  },
  "nbformat": 4,
  "nbformat_minor": 0
}